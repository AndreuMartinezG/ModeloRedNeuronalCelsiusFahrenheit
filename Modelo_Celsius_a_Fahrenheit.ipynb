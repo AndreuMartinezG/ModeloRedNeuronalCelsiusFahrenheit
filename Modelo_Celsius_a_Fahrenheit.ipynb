{
  "nbformat": 4,
  "nbformat_minor": 0,
  "metadata": {
    "colab": {
      "provenance": [],
      "toc_visible": true,
      "gpuType": "T4",
      "authorship_tag": "ABX9TyO+5SaXyQ4Lmy5K3rN18sDn",
      "include_colab_link": true
    },
    "kernelspec": {
      "name": "python3",
      "display_name": "Python 3"
    },
    "language_info": {
      "name": "python"
    },
    "accelerator": "GPU"
  },
  "cells": [
    {
      "cell_type": "markdown",
      "metadata": {
        "id": "view-in-github",
        "colab_type": "text"
      },
      "source": [
        "<a href=\"https://colab.research.google.com/github/AndreuMartinezG/ModeloRedNeuronalCelsiusFahrenheit/blob/main/Modelo_Celsius_a_Fahrenheit.ipynb\" target=\"_parent\"><img src=\"https://colab.research.google.com/assets/colab-badge.svg\" alt=\"Open In Colab\"/></a>"
      ]
    },
    {
      "cell_type": "code",
      "execution_count": null,
      "metadata": {
        "id": "N1Ha7CaGPROs"
      },
      "outputs": [],
      "source": [
        "import tensorflow as tf\n",
        "import numpy as np"
      ]
    },
    {
      "cell_type": "code",
      "source": [
        "celsius = np.array([-40, -10, 0, 8, 15, 22, 38], dtype=float)\n",
        "fahrenheit = np.array([-40, 14, 32, 46, 59, 72, 100], dtype=float)"
      ],
      "metadata": {
        "id": "zRkix5ozQCmy"
      },
      "execution_count": null,
      "outputs": []
    },
    {
      "cell_type": "code",
      "source": [
        "#capa = tf.keras.layers.Dense(units=1, input_shape=[1])\n",
        "#modelo = tf.keras.Sequential([capa])\n",
        "\n",
        "oculta1 = tf.keras.layers.Dense(units=3, input_shape=[1])\n",
        "oculta2 = tf.keras.layers.Dense(units=3)\n",
        "salida = tf.keras.layers.Dense(units=1)\n",
        "modelo = tf.keras.Sequential([oculta1, oculta2, salida])"
      ],
      "metadata": {
        "id": "dGXbYFCcRVGL"
      },
      "execution_count": null,
      "outputs": []
    },
    {
      "cell_type": "code",
      "source": [
        "modelo.compile(\n",
        "    optimizer = tf.keras.optimizers.Adam(0.001),\n",
        "    loss ='mean_squared_error'\n",
        ")"
      ],
      "metadata": {
        "id": "XqgY_6iESX1g"
      },
      "execution_count": null,
      "outputs": []
    },
    {
      "cell_type": "code",
      "source": [
        "print(\"Comenzando Entrenamiento..\")\n",
        "historial = modelo.fit(celsius, fahrenheit, epochs=1000, verbose=False)\n",
        "print(\"Primer Modelo entrenado!!!!\")"
      ],
      "metadata": {
        "colab": {
          "base_uri": "https://localhost:8080/"
        },
        "id": "ujzegdxqSzod",
        "outputId": "5e6268d9-9dcf-4c6c-d5ca-c663a1e0a48a"
      },
      "execution_count": null,
      "outputs": [
        {
          "output_type": "stream",
          "name": "stdout",
          "text": [
            "Comenzando Entrenamiento..\n",
            "Primer Modelo entrenado!!!!\n"
          ]
        }
      ]
    },
    {
      "cell_type": "code",
      "source": [
        "import matplotlib.pyplot as plt\n",
        "plt.xlabel(\"#Epoca\")\n",
        "plt.ylabel(\"Magnitud de pérdida\")\n",
        "plt.plot(historial.history[\"loss\"])"
      ],
      "metadata": {
        "colab": {
          "base_uri": "https://localhost:8080/",
          "height": 466
        },
        "id": "Vx4K_i6ETdYm",
        "outputId": "12b7c662-4c1a-4cd8-a36f-72123d8dd2a3"
      },
      "execution_count": null,
      "outputs": [
        {
          "output_type": "execute_result",
          "data": {
            "text/plain": [
              "[<matplotlib.lines.Line2D at 0x7fcf64211a50>]"
            ]
          },
          "metadata": {},
          "execution_count": 70
        },
        {
          "output_type": "display_data",
          "data": {
            "text/plain": [
              "<Figure size 640x480 with 1 Axes>"
            ],
            "image/png": "[encoded data removed]"
          },
          "metadata": {}
        }
      ]
    },
    {
      "cell_type": "code",
      "source": [
        "print(\"Hagamos una predicción!\")\n",
        "resultado = modelo.predict([-50.0])\n",
        "print(\"El resultado es \" + str(resultado) + \" fahrenheit\")"
      ],
      "metadata": {
        "colab": {
          "base_uri": "https://localhost:8080/"
        },
        "id": "49lbYMSKURbp",
        "outputId": "a3d78672-13bf-4eeb-ccde-2b6ffb4ef856"
      },
      "execution_count": null,
      "outputs": [
        {
          "output_type": "stream",
          "name": "stdout",
          "text": [
            "Hagamos una predicción!\n",
            "1/1 [==============================] - 0s 49ms/step\n",
            "El resultado es [[-57.944927]] fahrenheit\n"
          ]
        }
      ]
    },
    {
      "cell_type": "code",
      "source": [
        "print(\"Variables internas del modelo\")\n",
        "print(str(oculta1.get_weights()) + \"capa Oculta1\")\n",
        "print(str(oculta2.get_weights()) + \"capa Oculta2\")\n",
        "print(str(salida.get_weights()) + \"salida\")"
      ],
      "metadata": {
        "colab": {
          "base_uri": "https://localhost:8080/"
        },
        "id": "xQ7_Kwq-U565",
        "outputId": "4f2ed0da-414c-47fe-c3b5-a5776a34325d"
      },
      "execution_count": null,
      "outputs": [
        {
          "output_type": "stream",
          "name": "stdout",
          "text": [
            "Variables internas del modelo\n",
            "[array([[0.28758192, 0.40515342, 0.24837488]], dtype=float32), array([3.5576491, 3.5644438, 3.5340633], dtype=float32)]capa Oculta1\n",
            "[array([[ 0.31991085, -1.3504404 ,  1.1510967 ],\n",
            "       [-0.4358555 , -0.86867124,  0.24779804],\n",
            "       [ 0.20871437, -1.4263015 ,  0.35680377]], dtype=float32), array([-0.7188234, -3.5415976,  3.5280333], dtype=float32)]capa Oculta2\n",
            "[array([[-0.24572238],\n",
            "       [-1.2509702 ],\n",
            "       [ 0.8088306 ]], dtype=float32), array([3.3351412], dtype=float32)]salida\n"
          ]
        }
      ]
    }
  ]
}